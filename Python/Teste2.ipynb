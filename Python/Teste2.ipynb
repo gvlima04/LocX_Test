{
 "cells": [
  {
   "cell_type": "code",
   "execution_count": 2,
   "id": "af423eb3",
   "metadata": {},
   "outputs": [],
   "source": [
    "def valorProprietrio(s):\n",
    "    qtdProp = int(s.split()[0])\n",
    "    AluguelTotal = int(s.split()[1])\n",
    "    txAdmin = int(s.split()[2])\n",
    "    \n",
    "    ##Cálculo da Taxa de Administração\n",
    "    dTxAdmin = AluguelTotal*(txAdmin/100)\n",
    "    \n",
    "    ##Verificando a tabela de alíquota e dedução de imposto de renda (por proprietário) \n",
    "    if AluguelTotal/qtdProp <= 1903.98:\n",
    "        aliq = 0\n",
    "        ded = 0\n",
    "    elif AluguelTotal/qtdProp >= 1903.99 and AluguelTotal/qtdProp <= 2826.65:\n",
    "        aliq = 0.075\n",
    "        ded = 142.80\n",
    "    elif AluguelTotal/qtdProp >= 2826.66 and AluguelTotal/qtdProp <= 3751.05:\n",
    "        aliq = 0.15\n",
    "        ded = 354.80\n",
    "    elif AluguelTotal/qtdProp >= 3751.06 and AluguelTotal/qtdProp <= 4664.68:\n",
    "        aliq = 0.225\n",
    "        ded = 636.13\n",
    "    elif AluguelTotal/qtdProp >= 4664.69:\n",
    "        aliq = 0.275\n",
    "        ded = 869.36\n",
    "\n",
    "    #Calculo do desconto do imposto de renda\n",
    "    dIR = AluguelTotal*(aliq)\n",
    "    \n",
    "    #Valor recebido por proprietário\n",
    "    valProp = (AluguelTotal - dTxAdmin - dIR + ded)/qtdProp\n",
    "    \n",
    "    #Escrevendo o valor de saída no formato solicitado\n",
    "    ret = ''\n",
    "    for x in range(qtdProp):\n",
    "        ret = ret + str(valProp) + ' '\n",
    "\n",
    "    return ret"
   ]
  },
  {
   "cell_type": "code",
   "execution_count": 4,
   "id": "81744157",
   "metadata": {},
   "outputs": [
    {
     "name": "stdout",
     "output_type": "stream",
     "text": [
      "3049.8 \n"
     ]
    }
   ],
   "source": [
    "print(valorProprietrio('1 3500 8'))"
   ]
  },
  {
   "cell_type": "code",
   "execution_count": null,
   "id": "3dd3a186",
   "metadata": {},
   "outputs": [],
   "source": []
  }
 ],
 "metadata": {
  "interpreter": {
   "hash": "eeee0e36986bb53eff28d8e7f28330e70ddeca6831d2082fa6eed70261dc4050"
  },
  "kernelspec": {
   "display_name": "Python 3 (ipykernel)",
   "language": "python",
   "name": "python3"
  },
  "language_info": {
   "codemirror_mode": {
    "name": "ipython",
    "version": 3
   },
   "file_extension": ".py",
   "mimetype": "text/x-python",
   "name": "python",
   "nbconvert_exporter": "python",
   "pygments_lexer": "ipython3",
   "version": "3.7.0"
  }
 },
 "nbformat": 4,
 "nbformat_minor": 5
}
