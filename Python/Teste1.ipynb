{
 "cells": [
  {
   "cell_type": "code",
   "execution_count": 1,
   "id": "07589803",
   "metadata": {},
   "outputs": [],
   "source": [
    "x = 140153"
   ]
  },
  {
   "cell_type": "code",
   "execution_count": 2,
   "id": "ea668148",
   "metadata": {},
   "outputs": [
    {
     "name": "stdout",
     "output_type": "stream",
     "text": [
      "38 3353\n"
     ]
    }
   ],
   "source": [
    "## O tempo em horas (h) será dado pelo valor inteiro da divisão do valor de entrada por 3600 (1 hora = 3600 segundos)\n",
    "## O resto da divisão corresponde aos minutos e segundo restantes\n",
    "\n",
    "h = int(x/3600)\n",
    "h_resto = x%3600\n",
    "print(h, h_resto)"
   ]
  },
  {
   "cell_type": "code",
   "execution_count": 3,
   "id": "2e9c0420",
   "metadata": {},
   "outputs": [
    {
     "name": "stdout",
     "output_type": "stream",
     "text": [
      "55 53\n"
     ]
    }
   ],
   "source": [
    "## O valor da inteiro de h_resto/60 será o tempo em minuto e o resto da divisão será o tempo em segundos\n",
    "m = int(h_resto/60)\n",
    "s = h_resto%60\n",
    "print(m, s)"
   ]
  },
  {
   "cell_type": "code",
   "execution_count": 4,
   "id": "185d8d36",
   "metadata": {},
   "outputs": [
    {
     "name": "stdout",
     "output_type": "stream",
     "text": [
      "38:55:53\n"
     ]
    }
   ],
   "source": [
    "print(str(h)+':'+ str(m) + ':' + str(s))"
   ]
  },
  {
   "cell_type": "code",
   "execution_count": null,
   "id": "7d65b317",
   "metadata": {},
   "outputs": [],
   "source": []
  }
 ],
 "metadata": {
  "interpreter": {
   "hash": "eeee0e36986bb53eff28d8e7f28330e70ddeca6831d2082fa6eed70261dc4050"
  },
  "kernelspec": {
   "display_name": "Python 3 (ipykernel)",
   "language": "python",
   "name": "python3"
  },
  "language_info": {
   "codemirror_mode": {
    "name": "ipython",
    "version": 3
   },
   "file_extension": ".py",
   "mimetype": "text/x-python",
   "name": "python",
   "nbconvert_exporter": "python",
   "pygments_lexer": "ipython3",
   "version": "3.7.0"
  }
 },
 "nbformat": 4,
 "nbformat_minor": 5
}
